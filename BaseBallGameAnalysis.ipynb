{
 "cells": [
  {
   "cell_type": "code",
   "execution_count": 11,
   "id": "cb0f936d-0e6a-491c-89df-a377eac7e5ab",
   "metadata": {},
   "outputs": [],
   "source": [
    "import pandas as pd \n",
    "import os\n"
   ]
  },
  {
   "cell_type": "markdown",
   "id": "21782e26",
   "metadata": {},
   "source": [
    "# 2016-2021 Baseball Stats\n",
    "- Using Kaggle Dataset Found [HERE](https://www.kaggle.com/datasets/josephvm/mlb-game-data)\n",
    "- The cubs won 16-0 in Los Angelos so I was curious if this had ever even come close to happening before\n"
   ]
  },
  {
   "cell_type": "code",
   "execution_count": 24,
   "id": "93a2c377-ab97-425a-a033-a1cd7eb793ff",
   "metadata": {},
   "outputs": [],
   "source": [
    "pd.set_option('display.max_columns', None)"
   ]
  },
  {
   "cell_type": "code",
   "execution_count": null,
   "id": "8c31c5c1-4c87-44e1-819e-8dfdeb0aa934",
   "metadata": {},
   "outputs": [
    {
     "name": "stdout",
     "output_type": "stream",
     "text": [
      "Game                           int64\n",
      "away                          object\n",
      "away-record                   object\n",
      "awayaway-record               object\n",
      "home                          object\n",
      "home-record                   object\n",
      "homehome-record               object\n",
      "away-score                   float64\n",
      "home-score                   float64\n",
      "postseason info               object\n",
      "Walks Issued - Away          float64\n",
      "Walks Issued - Home          float64\n",
      "Stolen Bases - Away          float64\n",
      "Stolen Bases - Home          float64\n",
      "Strikeouts Thrown - Away     float64\n",
      "Strikeouts Thrown - Home     float64\n",
      "Total Bases - Away           float64\n",
      "Total Bases - Home           float64\n",
      "Stadium                       object\n",
      "Date                          object\n",
      "Location                      object\n",
      "Odds                          object\n",
      "O/U                           object\n",
      "Attendance                    object\n",
      "Capacity                      object\n",
      "Duration                      object\n",
      "Umpires                       object\n",
      "WIN - Pitcher - Stats         object\n",
      "WIN - Pitcher - Id           float64\n",
      "WIN - Pitcher - Name          object\n",
      "WIN - Pitcher - AbbrName      object\n",
      "WIN - Pitcher - Record        object\n",
      "LOSS - Pitcher - Stats        object\n",
      "LOSS - Pitcher - Id          float64\n",
      "LOSS - Pitcher - Name         object\n",
      "LOSS - Pitcher - AbbrName     object\n",
      "LOSS - Pitcher - Record       object\n",
      "SAVE - Pitcher - Stats        object\n",
      "SAVE - Pitcher - Id          float64\n",
      "SAVE - Pitcher - Name         object\n",
      "SAVE - Pitcher - AbbrName     object\n",
      "SAVE - Pitcher - Record       object\n",
      "Extra Innings                 object\n",
      "dtype: object\n",
      "Team     object\n",
      "1         int64\n",
      "2         int64\n",
      "3         int64\n",
      "4         int64\n",
      "5         int64\n",
      "6        object\n",
      "7        object\n",
      "8        object\n",
      "9        object\n",
      "R         int64\n",
      "H         int64\n",
      "E         int64\n",
      "Game      int64\n",
      "10      float64\n",
      "11      float64\n",
      "12      float64\n",
      "13      float64\n",
      "14      float64\n",
      "15      float64\n",
      "16      float64\n",
      "17      float64\n",
      "18      float64\n",
      "19      float64\n",
      "dtype: object\n"
     ]
    }
   ],
   "source": [
    "# Example: CSV is in a folder called 'data'\n",
    "games = pd.read_csv('/Documents/API-fun/mlb_game_data/games.csv')\n",
    "inningScore = pd.read_csv('/Documents/API-fun/mlb_game_data/inningScore.csv')\n",
    "\n",
    "# View the first few rows\n",
    "#print(games.head(1))\n",
    "#print(inningScore.head(1))\n",
    "print(games.dtypes)\n",
    "print(inningScore.dtypes)"
   ]
  },
  {
   "cell_type": "code",
   "execution_count": 60,
   "id": "cc722578-7068-43f1-b675-eee7205f31da",
   "metadata": {},
   "outputs": [],
   "source": [
    "# Specify the key to join on (e.g., 'id'), and the columns to keep from df2\n",
    "key = 'Game'\n",
    "columns_to_keep = ['Game','Date', 'Odds', 'O/U','home-score','away-score']  # example columns from df2"
   ]
  },
  {
   "cell_type": "code",
   "execution_count": 61,
   "id": "154ef724-4f2d-49ce-a582-ba5c692060cd",
   "metadata": {},
   "outputs": [],
   "source": [
    "# Merge the two dataframes on the key, keeping only selected columns from df2\n",
    "merged_df = pd.merge(inningScore, games[columns_to_keep], on=key, how='inner')  # 'inner' can be changed to 'left', 'right', etc."
   ]
  },
  {
   "cell_type": "code",
   "execution_count": 62,
   "id": "a7aeda73-2cf7-4d6a-9f2b-4e777e286d3a",
   "metadata": {},
   "outputs": [
    {
     "name": "stdout",
     "output_type": "stream",
     "text": [
      "  Team  1  2  3  4  5  6  7  8  9  R  H  E       Game  10  11  12  13  14  15  \\\n",
      "0  STL  0  0  0  0  0  0  0  0  1  1  5  0  360403123 NaN NaN NaN NaN NaN NaN   \n",
      "1  PIT  0  2  0  0  0  1  0  1  -  4  9  1  360403123 NaN NaN NaN NaN NaN NaN   \n",
      "2  TOR  2  0  0  1  0  0  0  2  0  5  7  2  360403130 NaN NaN NaN NaN NaN NaN   \n",
      "3   TB  0  0  1  0  0  0  0  0  2  3  7  1  360403130 NaN NaN NaN NaN NaN NaN   \n",
      "4  NYM  0  0  0  0  0  0  0  3  0  3  7  1  360403107 NaN NaN NaN NaN NaN NaN   \n",
      "\n",
      "   16  17  18  19               Date Odds  O/U  home-score  away-score  \n",
      "0 NaN NaN NaN NaN  2016-04-03T17:00Z  NaN  NaN         4.0         1.0  \n",
      "1 NaN NaN NaN NaN  2016-04-03T17:00Z  NaN  NaN         4.0         1.0  \n",
      "2 NaN NaN NaN NaN  2016-04-03T20:00Z  NaN  NaN         3.0         5.0  \n",
      "3 NaN NaN NaN NaN  2016-04-03T20:00Z  NaN  NaN         3.0         5.0  \n",
      "4 NaN NaN NaN NaN  2016-04-04T00:30Z  NaN  NaN         4.0         3.0  \n"
     ]
    }
   ],
   "source": [
    "# View the result\n",
    "print(merged_df.head())"
   ]
  },
  {
   "cell_type": "code",
   "execution_count": 63,
   "id": "5f33c70d-7f7c-496a-b1a6-f952261daffd",
   "metadata": {},
   "outputs": [
    {
     "name": "stdout",
     "output_type": "stream",
     "text": [
      "      Team  1  2  3  4  5  6  7  8  9   R   H  E       Game  10  11  12  13  \\\n",
      "26922  MIN  0  0  0  0  0  0  2  0  0   2   7  0  360404101 NaN NaN NaN NaN   \n",
      "26923  BAL  0  0  0  0  2  0  0  0  1   3  10  0  360404101 NaN NaN NaN NaN   \n",
      "26924   SF  0  2  2  1  2  0  0  5  0  12  15  0  360404108 NaN NaN NaN NaN   \n",
      "26925  MIL  1  1  1  0  0  0  0  0  0   3   8  1  360404108 NaN NaN NaN NaN   \n",
      "26926  NYM  0  0  0  0  0  0  0  3  0   3   7  1  360403107 NaN NaN NaN NaN   \n",
      "26927   KC  1  0  0  1  0  2  0  0  -   4   9  0  360403107 NaN NaN NaN NaN   \n",
      "26928  TOR  2  0  0  1  0  0  0  2  0   5   7  2  360403130 NaN NaN NaN NaN   \n",
      "26929   TB  0  0  1  0  0  0  0  0  2   3   7  1  360403130 NaN NaN NaN NaN   \n",
      "26930  PIT  0  2  0  0  0  1  0  1  -   4   9  1  360403123 NaN NaN NaN NaN   \n",
      "26931  STL  0  0  0  0  0  0  0  0  1   1   5  0  360403123 NaN NaN NaN NaN   \n",
      "\n",
      "       14  15  16  17  18  19               Date Odds  O/U  home-score  \\\n",
      "26922 NaN NaN NaN NaN NaN NaN  2016-04-04T19:05Z  NaN  NaN         3.0   \n",
      "26923 NaN NaN NaN NaN NaN NaN  2016-04-04T19:05Z  NaN  NaN         3.0   \n",
      "26924 NaN NaN NaN NaN NaN NaN  2016-04-04T18:10Z  NaN  NaN         3.0   \n",
      "26925 NaN NaN NaN NaN NaN NaN  2016-04-04T18:10Z  NaN  NaN         3.0   \n",
      "26926 NaN NaN NaN NaN NaN NaN  2016-04-04T00:30Z  NaN  NaN         4.0   \n",
      "26927 NaN NaN NaN NaN NaN NaN  2016-04-04T00:30Z  NaN  NaN         4.0   \n",
      "26928 NaN NaN NaN NaN NaN NaN  2016-04-03T20:00Z  NaN  NaN         3.0   \n",
      "26929 NaN NaN NaN NaN NaN NaN  2016-04-03T20:00Z  NaN  NaN         3.0   \n",
      "26930 NaN NaN NaN NaN NaN NaN  2016-04-03T17:00Z  NaN  NaN         4.0   \n",
      "26931 NaN NaN NaN NaN NaN NaN  2016-04-03T17:00Z  NaN  NaN         4.0   \n",
      "\n",
      "       away-score  \n",
      "26922         2.0  \n",
      "26923         2.0  \n",
      "26924        12.0  \n",
      "26925        12.0  \n",
      "26926         3.0  \n",
      "26927         3.0  \n",
      "26928         5.0  \n",
      "26929         5.0  \n",
      "26930         1.0  \n",
      "26931         1.0  \n"
     ]
    }
   ],
   "source": [
    "# Sort by 'Date' descending\n",
    "merged_df = merged_df.sort_values(by='Date', ascending=False)\n",
    "\n",
    "# Optional: reset index after sort\n",
    "merged_df = merged_df.reset_index(drop=True)\n",
    "\n",
    "# Check it out\n",
    "print(merged_df.tail(10))"
   ]
  },
  {
   "cell_type": "code",
   "execution_count": 64,
   "id": "07a9159f-e8aa-4377-8c8e-7f6ce1a67ff0",
   "metadata": {},
   "outputs": [],
   "source": [
    "# Step 1: Create the Matchup string for each GameID\n",
    "matchup_df = merged_df.groupby('Game')['Team'].apply(' - '.join).reset_index()\n",
    "matchup_df = matchup_df.rename(columns={'Team': 'Matchup'})\n",
    "\n",
    "# Step 2: Merge it back into the original DataFrame\n",
    "merged_df = pd.merge(merged_df, matchup_df, on='Game', how='left')"
   ]
  },
  {
   "cell_type": "code",
   "execution_count": 69,
   "id": "9622d115-5e36-4cfc-8d2a-42eef477f130",
   "metadata": {},
   "outputs": [],
   "source": [
    "# Define the valid matchups (both possible orders)\n",
    "valid_matchups = ['CHC - LAD', 'LAD - CHC']\n",
    "\n",
    "# Filter the DataFrame\n",
    "subset_df = merged_df[merged_df['Matchup'].isin(valid_matchups)]"
   ]
  },
  {
   "cell_type": "code",
   "execution_count": null,
   "id": "717d6ce4-fc5c-4913-b1b0-dce2c74ae08f",
   "metadata": {},
   "outputs": [],
   "source": [
    "print(subset_df.head(10))"
   ]
  },
  {
   "cell_type": "code",
   "execution_count": null,
   "id": "2eb0a0c7-a936-40ef-a3aa-89de3da93756",
   "metadata": {},
   "outputs": [],
   "source": [
    "subset_df.dtypes"
   ]
  },
  {
   "cell_type": "code",
   "execution_count": 88,
   "id": "e54cc7f0-e1ca-4254-bf67-c612abb9ca12",
   "metadata": {},
   "outputs": [
    {
     "name": "stdout",
     "output_type": "stream",
     "text": [
      "           Game               Date    Matchup  home-score  away-score\n",
      "2634  401228209  2021-06-27T23:00Z  LAD - CHC         7.0         1.0\n",
      "2635  401228209  2021-06-27T23:00Z  LAD - CHC         7.0         1.0\n",
      "2668  401228194  2021-06-26T23:15Z  CHC - LAD         3.0         2.0\n",
      "2669  401228194  2021-06-26T23:15Z  CHC - LAD         3.0         2.0\n",
      "2700  401228179  2021-06-26T02:10Z  LAD - CHC         6.0         2.0\n"
     ]
    }
   ],
   "source": [
    "# Specify the columns you want to keep\n",
    "selected_columns = ['Game', 'Date', 'Matchup','home-score','away-score']\n",
    "\n",
    "# Subset the DataFrame to only those columns\n",
    "subset_df = subset_df[selected_columns]\n",
    "\n",
    "# View the result\n",
    "print(subset_df.head())"
   ]
  },
  {
   "cell_type": "code",
   "execution_count": 89,
   "id": "6a1d30cd-7de8-4122-a0d3-783617be2ae9",
   "metadata": {},
   "outputs": [],
   "source": [
    "df = subset_df.drop(columns=['Game'])  # replace 'Score' with your column name"
   ]
  },
  {
   "cell_type": "code",
   "execution_count": 90,
   "id": "a903bcb0-0068-4d95-8791-6e12603f0314",
   "metadata": {},
   "outputs": [
    {
     "name": "stdout",
     "output_type": "stream",
     "text": [
      "                    Date    Matchup  home-score  away-score\n",
      "23078  2016-08-27T02:10Z  LAD - CHC         4.0         6.0\n",
      "25332  2016-06-02T18:20Z  CHC - LAD         7.0         2.0\n",
      "25346  2016-06-02T00:00Z  LAD - CHC         2.0         1.0\n",
      "25374  2016-06-01T00:30Z  CHC - LAD         0.0         5.0\n",
      "25410  2016-05-30T21:05Z  CHC - LAD         2.0         0.0\n"
     ]
    }
   ],
   "source": [
    "df = df.drop_duplicates()\n",
    "print(df.tail())"
   ]
  },
  {
   "cell_type": "code",
   "execution_count": 91,
   "id": "73ab81db-5a53-4c18-a7de-4f1fb1641059",
   "metadata": {},
   "outputs": [],
   "source": [
    "df['HomeAway'] = df['Matchup'].apply(lambda x: 'Home' if x == 'LAD - CHC' else 'Away' if x == 'CHC - LAD' else None)"
   ]
  },
  {
   "cell_type": "code",
   "execution_count": 85,
   "id": "705e232c-3290-489f-9a0d-56ea5d58846b",
   "metadata": {},
   "outputs": [
    {
     "name": "stdout",
     "output_type": "stream",
     "text": [
      "                   Date    Matchup  home-score  away-score HomeAway\n",
      "2634  2021-06-27T23:00Z  LAD - CHC         7.0         1.0     Home\n",
      "2668  2021-06-26T23:15Z  CHC - LAD         3.0         2.0     Away\n",
      "2700  2021-06-26T02:10Z  LAD - CHC         6.0         2.0     Home\n",
      "2730  2021-06-25T02:10Z  LAD - CHC         0.0         4.0     Home\n",
      "4070  2021-05-05T23:30Z  LAD - CHC         6.0         5.0     Home\n"
     ]
    }
   ],
   "source": [
    "print(df.head())"
   ]
  },
  {
   "cell_type": "code",
   "execution_count": 86,
   "id": "135d7ecb-12ce-4f08-8d72-62b8c4d5bfac",
   "metadata": {},
   "outputs": [],
   "source": [
    "#tempdf =df\n",
    "df = tempdf"
   ]
  },
  {
   "cell_type": "code",
   "execution_count": 94,
   "id": "e67df936-fc10-42d3-ba32-94ac21d80b77",
   "metadata": {},
   "outputs": [
    {
     "name": "stdout",
     "output_type": "stream",
     "text": [
      "                    Date    Matchup  home-score  away-score HomeAway Result\n",
      "2634   2021-06-27T23:00Z  LAD - CHC         7.0         1.0     Home      L\n",
      "2668   2021-06-26T23:15Z  CHC - LAD         3.0         2.0     Away      W\n",
      "2700   2021-06-26T02:10Z  LAD - CHC         6.0         2.0     Home      L\n",
      "2730   2021-06-25T02:10Z  LAD - CHC         0.0         4.0     Home      W\n",
      "4070   2021-05-05T23:30Z  LAD - CHC         6.0         5.0     Home      L\n",
      "4102   2021-05-04T23:40Z  CHC - LAD         4.0         3.0     Away      W\n",
      "4120   2021-05-04T18:20Z  CHC - LAD         7.0         1.0     Away      W\n",
      "9696   2019-06-16T23:00Z  LAD - CHC         3.0         2.0     Home      L\n",
      "9726   2019-06-16T01:10Z  LAD - CHC         1.0         2.0     Home      W\n",
      "9758   2019-06-15T02:00Z  LAD - CHC         5.0         3.0     Home      L\n",
      "9786   2019-06-14T02:10Z  CHC - LAD         7.0         3.0     Away      W\n",
      "11114  2019-04-25T18:20Z  CHC - LAD         1.0         2.0     Away      L\n",
      "11122  2019-04-25T00:05Z  CHC - LAD         7.0         6.0     Away      W\n",
      "11158  2019-04-24T00:05Z  LAD - CHC         7.0         2.0     Home      L\n",
      "12016  2019-03-21T02:05Z  CHC - LAD         4.0         4.0     Away      L\n",
      "14588  2018-06-28T19:10Z  LAD - CHC         5.0        11.0     Home      W\n",
      "14600  2018-06-28T02:00Z  LAD - CHC         7.0         5.0     Home      L\n",
      "14630  2018-06-27T02:00Z  LAD - CHC         4.0         9.0     Home      W\n",
      "14658  2018-06-26T02:00Z  LAD - CHC         2.0         1.0     Home      L\n",
      "14808  2018-06-20T18:20Z  CHC - LAD         4.0         0.0     Away      W\n",
      "14834  2018-06-20T00:05Z  CHC - LAD         2.0         1.0     Away      W\n",
      "14850  2018-06-19T17:05Z  CHC - LAD         3.0         4.0     Away      L\n",
      "17022  2017-10-20T00:08Z  LAD - CHC         1.0        11.0     Home      W\n",
      "17024  2017-10-19T01:01Z  LAD - CHC         3.0         2.0     Home      L\n",
      "17028  2017-10-18T01:00Z  CHC - LAD         1.0         6.0     Away      L\n",
      "17034  2017-10-15T23:38Z  LAD - CHC         4.0         1.0     Home      L\n",
      "17036  2017-10-15T00:08Z  LAD - CHC         5.0         2.0     Home      L\n",
      "20474  2017-05-28T20:10Z  LAD - CHC         9.0         4.0     Home      L\n",
      "20507  2017-05-27T23:15Z  LAD - CHC         5.0         0.0     Home      L\n",
      "20536  2017-05-27T02:10Z  LAD - CHC         4.0         0.0     Home      L\n",
      "21702  2017-04-13T18:20Z  CHC - LAD         4.0         0.0     Away      W\n",
      "21716  2017-04-13T00:05Z  LAD - CHC         0.0         2.0     Home      W\n",
      "21766  2017-04-11T00:00Z  CHC - LAD         3.0         2.0     Away      W\n",
      "21994  2016-10-23T00:00Z  CHC - LAD         5.0         0.0     Away      W\n",
      "21996  2016-10-21T00:00Z  LAD - CHC         4.0         8.0     Home      W\n",
      "21998  2016-10-20T00:00Z  CHC - LAD         2.0        10.0     Away      L\n",
      "22002  2016-10-19T00:00Z  LAD - CHC         6.0         0.0     Home      L\n",
      "22008  2016-10-17T00:00Z  CHC - LAD         0.0         1.0     Away      L\n",
      "22010  2016-10-16T00:00Z  CHC - LAD         8.0         4.0     Away      W\n",
      "23020  2016-08-28T20:10Z  LAD - CHC         1.0         0.0     Home      L\n",
      "23068  2016-08-27T20:05Z  LAD - CHC         3.0         2.0     Home      L\n",
      "23078  2016-08-27T02:10Z  LAD - CHC         4.0         6.0     Home      W\n",
      "25332  2016-06-02T18:20Z  CHC - LAD         7.0         2.0     Away      W\n",
      "25346  2016-06-02T00:00Z  LAD - CHC         2.0         1.0     Home      L\n",
      "25374  2016-06-01T00:30Z  CHC - LAD         0.0         5.0     Away      L\n",
      "25410  2016-05-30T21:05Z  CHC - LAD         2.0         0.0     Away      W\n"
     ]
    }
   ],
   "source": [
    "# Determine Home/Away\n",
    "df['HomeAway'] = df['Matchup'].apply(lambda x: 'Home' if x == 'LAD - CHC' else 'Away' if x == 'CHC - LAD' else None)\n",
    "\n",
    "# Add 'Result' column\n",
    "def determine_result(row):\n",
    "    if row['HomeAway'] == 'Home':\n",
    "        return 'W' if row['home-score'] < row['away-score'] else 'L'\n",
    "    elif row['HomeAway'] == 'Away':\n",
    "        return 'W' if row['away-score'] < row['home-score'] else 'L'\n",
    "    return None  # if HomeAway is neither\n",
    "\n",
    "df['Result'] = df.apply(determine_result, axis=1)\n",
    "\n",
    "print(df)"
   ]
  },
  {
   "cell_type": "code",
   "execution_count": 95,
   "id": "315ffff6-047d-4176-aba3-6b0ffa7f4181",
   "metadata": {},
   "outputs": [
    {
     "name": "stdout",
     "output_type": "stream",
     "text": [
      "Result     L   W\n",
      "HomeAway        \n",
      "Away       7  13\n",
      "Home      18   8\n"
     ]
    }
   ],
   "source": [
    "# Group by 'HomeAway' and count 'Result'\n",
    "summary = df.groupby('HomeAway')['Result'].value_counts().unstack().fillna(0).astype(int)\n",
    "\n",
    "print(summary)"
   ]
  },
  {
   "cell_type": "code",
   "execution_count": null,
   "id": "c86e3d3f-680a-4ddf-a275-85a421be29d6",
   "metadata": {},
   "outputs": [],
   "source": [
    "summary['Total'] = summary.sum(axis=1)"
   ]
  },
  {
   "cell_type": "code",
   "execution_count": null,
   "id": "38eb4b92-c92d-4325-acbb-21641c865de5",
   "metadata": {},
   "outputs": [],
   "source": [
    "print(summary)"
   ]
  },
  {
   "cell_type": "code",
   "execution_count": null,
   "id": "f7864d97-ce26-42cd-a1ac-be12e6f7909f",
   "metadata": {},
   "outputs": [],
   "source": []
  }
 ],
 "metadata": {
  "kernelspec": {
   "display_name": "Python 3 (ipykernel)",
   "language": "python",
   "name": "python3"
  },
  "language_info": {
   "codemirror_mode": {
    "name": "ipython",
    "version": 3
   },
   "file_extension": ".py",
   "mimetype": "text/x-python",
   "name": "python",
   "nbconvert_exporter": "python",
   "pygments_lexer": "ipython3",
   "version": "3.12.5"
  }
 },
 "nbformat": 4,
 "nbformat_minor": 5
}

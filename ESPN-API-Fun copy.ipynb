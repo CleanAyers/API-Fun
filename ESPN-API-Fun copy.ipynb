{
 "cells": [
  {
   "cell_type": "code",
   "execution_count": 18,
   "id": "cb0f936d-0e6a-491c-89df-a377eac7e5ab",
   "metadata": {},
   "outputs": [],
   "source": [
    "import requests\n",
    "import json"
   ]
  },
  {
   "cell_type": "code",
   "execution_count": 21,
   "id": "8c31c5c1-4c87-44e1-819e-8dfdeb0aa934",
   "metadata": {},
   "outputs": [],
   "source": [
    "url = \"https://site.api.espn.com/apis/site/v2/sports/basketball/mens-college-basketball/scoreboard\"\n",
    "response = requests.get(url)\n",
    "data = response.json()"
   ]
  },
  {
   "cell_type": "code",
   "execution_count": 22,
   "id": "cc722578-7068-43f1-b675-eee7205f31da",
   "metadata": {},
   "outputs": [
    {
     "name": "stdout",
     "output_type": "stream",
     "text": [
      "Auburn Tigers (57) vs Florida Gators (54) - In Progress\n",
      "Duke Blue Devils (0) vs Houston Cougars (0) - Scheduled\n"
     ]
    }
   ],
   "source": [
    "# Print game summaries\n",
    "for event in data['events']:\n",
    "    competition = event['competitions'][0]\n",
    "    status = competition['status']['type']['description']\n",
    "    teams = competition['competitors']\n",
    "    \n",
    "    print(f\"{teams[0]['team']['displayName']} ({teams[0]['score']}) vs {teams[1]['team']['displayName']} ({teams[1]['score']}) - {status}\")"
   ]
  },
  {
   "cell_type": "code",
   "execution_count": null,
   "id": "154ef724-4f2d-49ce-a582-ba5c692060cd",
   "metadata": {},
   "outputs": [],
   "source": []
  }
 ],
 "metadata": {
  "kernelspec": {
   "display_name": "Python 3 (ipykernel)",
   "language": "python",
   "name": "python3"
  },
  "language_info": {
   "codemirror_mode": {
    "name": "ipython",
    "version": 3
   },
   "file_extension": ".py",
   "mimetype": "text/x-python",
   "name": "python",
   "nbconvert_exporter": "python",
   "pygments_lexer": "ipython3",
   "version": "3.12.5"
  }
 },
 "nbformat": 4,
 "nbformat_minor": 5
}
